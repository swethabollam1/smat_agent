{
 "cells": [
  {
   "cell_type": "markdown",
   "metadata": {},
   "source": [
    "## Extracting required data from json file "
   ]
  },
  {
   "cell_type": "code",
   "execution_count": 1,
   "metadata": {},
   "outputs": [
    {
     "name": "stderr",
     "output_type": "stream",
     "text": [
      "C:\\Users\\Admin\\Anaconda3\\lib\\site-packages\\h5py\\__init__.py:36: FutureWarning: Conversion of the second argument of issubdtype from `float` to `np.floating` is deprecated. In future, it will be treated as `np.float64 == np.dtype(float).type`.\n",
      "  from ._conv import register_converters as _register_converters\n",
      "Using TensorFlow backend.\n"
     ]
    }
   ],
   "source": [
    "import csv\n",
    "import pandas as pd\n",
    "import numpy as np\n",
    "\n",
    "from numpy import array\n",
    "\n",
    "import json \n",
    "import pandas as pd \n",
    "from pandas.io.json import json_normalize #package for flattening json in pandas df\n"
   ]
  },
  {
   "cell_type": "code",
   "execution_count": 2,
   "metadata": {},
   "outputs": [],
   "source": [
    "with open('frames.json') as f:\n",
    "    d = json.load(f)\n",
    "\n",
    "#lets put the data into a pandas df\n",
    "#clicking on raw_nyc_phil.json under \"Input Files\"\n",
    "#tells us parent node is 'programs'\n",
    "text=[]\n",
    "for i in range(len(d)):\n",
    "    nycphil = json_normalize(d[i]['turns'])\n",
    "    text.append(nycphil['text'])\n"
   ]
  },
  {
   "cell_type": "code",
   "execution_count": 3,
   "metadata": {},
   "outputs": [
    {
     "name": "stderr",
     "output_type": "stream",
     "text": [
      "100%|████████████████████████████████████| 1369/1369 [00:00<00:00, 3355.20it/s]\n"
     ]
    }
   ],
   "source": [
    "from tqdm import tqdm\n",
    "for i in tqdm(range(len(text))):\n",
    "    l=len(text[i])\n",
    "    if(l%2==1):\n",
    "        del text[i][l-1]\n",
    "\n"
   ]
  },
  {
   "cell_type": "code",
   "execution_count": 4,
   "metadata": {},
   "outputs": [],
   "source": [
    "import itertools\n",
    "merged = list(itertools.chain(*text))"
   ]
  },
  {
   "cell_type": "code",
   "execution_count": 5,
   "metadata": {},
   "outputs": [],
   "source": [
    "df=pd.Series(merged)"
   ]
  },
  {
   "cell_type": "code",
   "execution_count": 6,
   "metadata": {},
   "outputs": [],
   "source": [
    "message=[]\n",
    "response=[]\n",
    "for i in range(len(merged)):\n",
    "    if(i%2==0):\n",
    "        message.append(merged[i])\n",
    "    else:\n",
    "        response.append(merged[i])\n",
    "       "
   ]
  },
  {
   "cell_type": "code",
   "execution_count": 7,
   "metadata": {},
   "outputs": [],
   "source": [
    "text = pd.DataFrame(list(zip(message,response)), \n",
    "               columns =['message', 'response']) "
   ]
  },
  {
   "cell_type": "code",
   "execution_count": 8,
   "metadata": {},
   "outputs": [
    {
     "data": {
      "text/html": [
       "<div>\n",
       "<style scoped>\n",
       "    .dataframe tbody tr th:only-of-type {\n",
       "        vertical-align: middle;\n",
       "    }\n",
       "\n",
       "    .dataframe tbody tr th {\n",
       "        vertical-align: top;\n",
       "    }\n",
       "\n",
       "    .dataframe thead th {\n",
       "        text-align: right;\n",
       "    }\n",
       "</style>\n",
       "<table border=\"1\" class=\"dataframe\">\n",
       "  <thead>\n",
       "    <tr style=\"text-align: right;\">\n",
       "      <th></th>\n",
       "      <th>message</th>\n",
       "      <th>response</th>\n",
       "    </tr>\n",
       "  </thead>\n",
       "  <tbody>\n",
       "    <tr>\n",
       "      <th>0</th>\n",
       "      <td>I'd like to book a trip to Atlantis from Capri...</td>\n",
       "      <td>Hi...I checked a few options for you, and unfo...</td>\n",
       "    </tr>\n",
       "    <tr>\n",
       "      <th>1</th>\n",
       "      <td>Yes, how about going to Neverland from Caprica...</td>\n",
       "      <td>I checked the availability for this date and t...</td>\n",
       "    </tr>\n",
       "    <tr>\n",
       "      <th>2</th>\n",
       "      <td>I have no flexibility for dates... but I can l...</td>\n",
       "      <td>I checked the availability for that date and t...</td>\n",
       "    </tr>\n",
       "    <tr>\n",
       "      <th>3</th>\n",
       "      <td>Hello, I am looking to book a vacation from Go...</td>\n",
       "      <td>Hi. Sorry, I can't find any trips from Gotham ...</td>\n",
       "    </tr>\n",
       "    <tr>\n",
       "      <th>4</th>\n",
       "      <td>What about a trip from Gotham City to Neverlan...</td>\n",
       "      <td>Sorry, I cannot find any trips leaving from Go...</td>\n",
       "    </tr>\n",
       "    <tr>\n",
       "      <th>5</th>\n",
       "      <td>Would any packages to Mos Eisley be available ...</td>\n",
       "      <td>There are no trips available to Mos Eisley.</td>\n",
       "    </tr>\n",
       "    <tr>\n",
       "      <th>6</th>\n",
       "      <td>You know what, I'd like to try and visit Never...</td>\n",
       "      <td>I cannot find any trips available to Neverland.</td>\n",
       "    </tr>\n",
       "    <tr>\n",
       "      <th>7</th>\n",
       "      <td>Do you have any trips from Gotham City to Kobe...</td>\n",
       "      <td>I can book you a 3 day trip to Kobe leaving fr...</td>\n",
       "    </tr>\n",
       "    <tr>\n",
       "      <th>8</th>\n",
       "      <td>No, that's too far for me. I need a flight tha...</td>\n",
       "      <td>I can book you a trip from Birmingham to Kobe ...</td>\n",
       "    </tr>\n",
       "    <tr>\n",
       "      <th>9</th>\n",
       "      <td>How many days would I be in Kobe?</td>\n",
       "      <td>You would arrive in Kobe August 17th and retur...</td>\n",
       "    </tr>\n",
       "  </tbody>\n",
       "</table>\n",
       "</div>"
      ],
      "text/plain": [
       "                                             message  \\\n",
       "0  I'd like to book a trip to Atlantis from Capri...   \n",
       "1  Yes, how about going to Neverland from Caprica...   \n",
       "2  I have no flexibility for dates... but I can l...   \n",
       "3  Hello, I am looking to book a vacation from Go...   \n",
       "4  What about a trip from Gotham City to Neverlan...   \n",
       "5  Would any packages to Mos Eisley be available ...   \n",
       "6  You know what, I'd like to try and visit Never...   \n",
       "7  Do you have any trips from Gotham City to Kobe...   \n",
       "8  No, that's too far for me. I need a flight tha...   \n",
       "9                  How many days would I be in Kobe?   \n",
       "\n",
       "                                            response  \n",
       "0  Hi...I checked a few options for you, and unfo...  \n",
       "1  I checked the availability for this date and t...  \n",
       "2  I checked the availability for that date and t...  \n",
       "3  Hi. Sorry, I can't find any trips from Gotham ...  \n",
       "4  Sorry, I cannot find any trips leaving from Go...  \n",
       "5        There are no trips available to Mos Eisley.  \n",
       "6    I cannot find any trips available to Neverland.  \n",
       "7  I can book you a 3 day trip to Kobe leaving fr...  \n",
       "8  I can book you a trip from Birmingham to Kobe ...  \n",
       "9  You would arrive in Kobe August 17th and retur...  "
      ]
     },
     "execution_count": 8,
     "metadata": {},
     "output_type": "execute_result"
    }
   ],
   "source": [
    "text.head(10)"
   ]
  },
  {
   "cell_type": "code",
   "execution_count": null,
   "metadata": {},
   "outputs": [],
   "source": [
    "text.to_csv('text.csv',index=None)"
   ]
  }
 ],
 "metadata": {
  "kernelspec": {
   "display_name": "Python 3",
   "language": "python",
   "name": "python3"
  },
  "language_info": {
   "codemirror_mode": {
    "name": "ipython",
    "version": 3
   },
   "file_extension": ".py",
   "mimetype": "text/x-python",
   "name": "python",
   "nbconvert_exporter": "python",
   "pygments_lexer": "ipython3",
   "version": "3.6.5"
  }
 },
 "nbformat": 4,
 "nbformat_minor": 1
}
